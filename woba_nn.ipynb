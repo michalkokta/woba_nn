{
 "cells": [
  {
   "cell_type": "code",
   "execution_count": 1,
   "metadata": {},
   "outputs": [],
   "source": [
    "import pandas as pd\n",
    "import numpy as np\n",
    "import tensorflow as tf\n",
    "from tensorflow import keras\n",
    "from tensorflow.keras import layers\n",
    "from sklearn.model_selection import train_test_split\n",
    "\n",
    "data = pd.read_csv('/Users/michalkokta/Desktop/woba_predictor.csv')"
   ]
  },
  {
   "cell_type": "code",
   "execution_count": 2,
   "metadata": {
    "scrolled": true
   },
   "outputs": [
    {
     "data": {
      "text/plain": [
       "989"
      ]
     },
     "execution_count": 2,
     "metadata": {},
     "output_type": "execute_result"
    }
   ],
   "source": [
    "len(data)"
   ]
  },
  {
   "cell_type": "code",
   "execution_count": 3,
   "metadata": {},
   "outputs": [
    {
     "data": {
      "text/plain": [
       "Index(['last_name', ' first_name', 'player_id', 'year', 'woba',\n",
       "       'exit_velocity_avg', 'barrel_batted_rate', 'z_swing_percent',\n",
       "       'z_swing_miss_percent', 'oz_swing_percent', 'oz_swing_miss_percent',\n",
       "       'oz_contact_percent', 'iz_contact_percent', 'Unnamed: 13',\n",
       "       'woba_greater'],\n",
       "      dtype='object')"
      ]
     },
     "execution_count": 3,
     "metadata": {},
     "output_type": "execute_result"
    }
   ],
   "source": [
    "data['woba_greater'] = np.where(data['woba'] >= 0.320, 1, 0)\n",
    "data.columns"
   ]
  },
  {
   "cell_type": "code",
   "execution_count": 13,
   "metadata": {},
   "outputs": [],
   "source": [
    "data['exit_velocity_norm'] = (data['exit_velocity_avg'] - np.mean(data['exit_velocity_avg']))/np.std(data['exit_velocity_avg'])\n",
    "data['barrel_batted_rate_norm'] = (data['barrel_batted_rate'] - np.mean(data['barrel_batted_rate']))/np.std(data['barrel_batted_rate'])\n",
    "data['z_swing_percent_norm'] = (data['z_swing_percent'] - np.mean(data['z_swing_percent']))/np.std(data['z_swing_percent'])\n",
    "data['z_swing_miss_percent_norm'] = (data['z_swing_miss_percent'] - np.mean(data['z_swing_miss_percent']))/np.std(data['z_swing_miss_percent'])\n",
    "data['oz_swing_percent_norm'] = (data['oz_swing_percent'] - np.mean(data['oz_swing_percent']))/np.std(data['oz_swing_percent'])\n",
    "data['oz_swing_miss_percent_norm'] = (data['oz_swing_miss_percent'] - np.mean(data['oz_swing_miss_percent']))/np.std(data['oz_swing_miss_percent'])\n",
    "data['oz_contact_percent_norm'] = (data['oz_contact_percent'] - np.mean(data['oz_contact_percent']))/np.std(data['oz_contact_percent'])\n",
    "data['iz_contact_percent_norm'] = (data['iz_contact_percent'] - np.mean(data['iz_contact_percent']))/np.std(data['iz_contact_percent'])"
   ]
  },
  {
   "cell_type": "code",
   "execution_count": 28,
   "metadata": {},
   "outputs": [],
   "source": [
    "true_labels = np.array(data['woba_greater'])\n",
    "features = np.array(data[['exit_velocity_norm','barrel_batted_rate_norm','z_swing_percent_norm','z_swing_miss_percent_norm', 'oz_swing_percent_norm','oz_swing_miss_percent_norm', 'oz_contact_percent_norm','iz_contact_percent_norm']])"
   ]
  },
  {
   "cell_type": "code",
   "execution_count": 29,
   "metadata": {},
   "outputs": [],
   "source": [
    "X_train, X_test, y_train, y_test = train_test_split(features, true_labels, test_size = 0.2, random_state = 42)"
   ]
  },
  {
   "cell_type": "code",
   "execution_count": 30,
   "metadata": {},
   "outputs": [
    {
     "data": {
      "text/plain": [
       "(791, 8)"
      ]
     },
     "execution_count": 30,
     "metadata": {},
     "output_type": "execute_result"
    }
   ],
   "source": [
    "X_train.shape"
   ]
  },
  {
   "cell_type": "code",
   "execution_count": 31,
   "metadata": {},
   "outputs": [],
   "source": [
    "model = keras.Sequential([\n",
    "    layers.Dense(8, activation = 'relu', kernel_regularizer = 'l2'),\n",
    "    layers.Dense(8, activation = 'relu', kernel_regularizer = 'l2'),\n",
    "    layers.Dense(8, activation = 'relu', kernel_regularizer = 'l2'),\n",
    "    layers.Dense(1, activation = 'sigmoid')\n",
    "])"
   ]
  },
  {
   "cell_type": "code",
   "execution_count": 32,
   "metadata": {},
   "outputs": [],
   "source": [
    "model.compile(optimizer='adam',\n",
    "                   loss='binary_crossentropy',\n",
    "                   metrics=['accuracy'])"
   ]
  },
  {
   "cell_type": "code",
   "execution_count": 33,
   "metadata": {
    "scrolled": false
   },
   "outputs": [
    {
     "name": "stdout",
     "output_type": "stream",
     "text": [
      "Epoch 1/15\n",
      "25/25 [==============================] - 1s 1ms/step - loss: 0.9489 - accuracy: 0.4202\n",
      "Epoch 2/15\n",
      "25/25 [==============================] - 0s 1ms/step - loss: 0.8902 - accuracy: 0.6854\n",
      "Epoch 3/15\n",
      "25/25 [==============================] - 0s 1ms/step - loss: 0.8450 - accuracy: 0.7125\n",
      "Epoch 4/15\n",
      "25/25 [==============================] - 0s 1ms/step - loss: 0.8073 - accuracy: 0.7050\n",
      "Epoch 5/15\n",
      "25/25 [==============================] - 0s 1ms/step - loss: 0.7778 - accuracy: 0.6872\n",
      "Epoch 6/15\n",
      "25/25 [==============================] - 0s 1ms/step - loss: 0.7534 - accuracy: 0.6819\n",
      "Epoch 7/15\n",
      "25/25 [==============================] - 0s 1ms/step - loss: 0.7126 - accuracy: 0.6920\n",
      "Epoch 8/15\n",
      "25/25 [==============================] - 0s 1ms/step - loss: 0.6764 - accuracy: 0.7350\n",
      "Epoch 9/15\n",
      "25/25 [==============================] - 0s 1ms/step - loss: 0.6743 - accuracy: 0.7469\n",
      "Epoch 10/15\n",
      "25/25 [==============================] - 0s 1ms/step - loss: 0.6642 - accuracy: 0.7331\n",
      "Epoch 11/15\n",
      "25/25 [==============================] - 0s 1ms/step - loss: 0.6391 - accuracy: 0.7417\n",
      "Epoch 12/15\n",
      "25/25 [==============================] - 0s 1ms/step - loss: 0.6057 - accuracy: 0.7638\n",
      "Epoch 13/15\n",
      "25/25 [==============================] - 0s 1ms/step - loss: 0.6046 - accuracy: 0.7665\n",
      "Epoch 14/15\n",
      "25/25 [==============================] - 0s 1ms/step - loss: 0.6015 - accuracy: 0.7542\n",
      "Epoch 15/15\n",
      "25/25 [==============================] - 0s 3ms/step - loss: 0.5722 - accuracy: 0.7757\n"
     ]
    },
    {
     "data": {
      "text/plain": [
       "<tensorflow.python.keras.callbacks.History at 0x7fcf8622b310>"
      ]
     },
     "execution_count": 33,
     "metadata": {},
     "output_type": "execute_result"
    }
   ],
   "source": [
    "model.fit(X_train, y_train, epochs=15, batch_size = 32)"
   ]
  },
  {
   "cell_type": "code",
   "execution_count": 11,
   "metadata": {
    "scrolled": true
   },
   "outputs": [
    {
     "name": "stdout",
     "output_type": "stream",
     "text": [
      "Model: \"sequential\"\n",
      "_________________________________________________________________\n",
      "Layer (type)                 Output Shape              Param #   \n",
      "=================================================================\n",
      "dense (Dense)                (None, 8)                 56        \n",
      "_________________________________________________________________\n",
      "dense_1 (Dense)              (None, 8)                 72        \n",
      "_________________________________________________________________\n",
      "dense_2 (Dense)              (None, 8)                 72        \n",
      "_________________________________________________________________\n",
      "dense_3 (Dense)              (None, 1)                 9         \n",
      "=================================================================\n",
      "Total params: 209\n",
      "Trainable params: 209\n",
      "Non-trainable params: 0\n",
      "_________________________________________________________________\n"
     ]
    }
   ],
   "source": [
    "model.summary()"
   ]
  },
  {
   "cell_type": "code",
   "execution_count": 34,
   "metadata": {
    "scrolled": true
   },
   "outputs": [
    {
     "name": "stdout",
     "output_type": "stream",
     "text": [
      "7/7 [==============================] - 0s 1ms/step - loss: 0.5277 - accuracy: 0.8131\n"
     ]
    },
    {
     "data": {
      "text/plain": [
       "[0.5276504755020142, 0.8131313323974609]"
      ]
     },
     "execution_count": 34,
     "metadata": {},
     "output_type": "execute_result"
    }
   ],
   "source": [
    "model.evaluate(X_test, y_test, batch_size = 32)"
   ]
  },
  {
   "cell_type": "code",
   "execution_count": null,
   "metadata": {},
   "outputs": [],
   "source": []
  }
 ],
 "metadata": {
  "kernelspec": {
   "display_name": "Python 3",
   "language": "python",
   "name": "python3"
  },
  "language_info": {
   "codemirror_mode": {
    "name": "ipython",
    "version": 3
   },
   "file_extension": ".py",
   "mimetype": "text/x-python",
   "name": "python",
   "nbconvert_exporter": "python",
   "pygments_lexer": "ipython3",
   "version": "3.7.7"
  }
 },
 "nbformat": 4,
 "nbformat_minor": 4
}
